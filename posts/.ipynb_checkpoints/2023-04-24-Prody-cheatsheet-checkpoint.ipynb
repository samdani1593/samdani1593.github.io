{
 "cells": [
  {
   "cell_type": "markdown",
   "id": "c570faaa",
   "metadata": {},
   "source": [
    "---\n",
    "badges: true\n",
    "author: \"Samdani Ansar\"\n",
    "categories:\n",
    "- Structural Bioinformatics\n",
    "date: '2023-04-23'\n",
    "title: ProDy cheatsheet\n",
    "description: Different utilities available in ProDy\n",
    "toc: true\n",
    "image: images/2ETR.png\n",
    "\n",
    "---"
   ]
  },
  {
   "cell_type": "markdown",
   "id": "42f71988",
   "metadata": {},
   "source": [
    "To run the notebook in Google Colab. [![Open In Colab](https://colab.research.google.com/assets/colab-badge.svg)](https://colab.research.google.com/github/samdani1593/samdani1593.github.io/blob/main/posts/2023-04-24-Prody-cheatsheet.ipynb)\n",
    "\n"
   ]
  },
  {
   "cell_type": "markdown",
   "id": "ae50bae7",
   "metadata": {},
   "source": [
    "In this post few functionalities on how the prody can be used for analysing protein structures are discussed."
   ]
  },
  {
   "cell_type": "markdown",
   "id": "d305ad17",
   "metadata": {},
   "source": [
    "# Install dependencies"
   ]
  },
  {
   "cell_type": "code",
   "execution_count": null,
   "id": "075303fc",
   "metadata": {},
   "outputs": [],
   "source": [
    "!pip install -U ProDy"
   ]
  },
  {
   "cell_type": "code",
   "execution_count": null,
   "id": "0d3b2232",
   "metadata": {},
   "outputs": [],
   "source": [
    "#@title *Download Input files*\n",
    "%%bash\n",
    "mkdir data\n",
    "cd data\n",
    "DATA_DIR_PATH='https://raw.githubusercontent.com/samdani1593/samdani1593.github.io/main/posts/data'\n",
    "for f in '2etr.pdb' '2etr.cif'\n",
    "do\n",
    "    wget $DATA_DIR_PATH/\"$f\"\n",
    "done"
   ]
  },
  {
   "cell_type": "code",
   "execution_count": 86,
   "id": "37c2fa45",
   "metadata": {},
   "outputs": [],
   "source": [
    "from prody import *"
   ]
  },
  {
   "cell_type": "markdown",
   "id": "c3fbf7a0",
   "metadata": {},
   "source": [
    "# Read structures"
   ]
  },
  {
   "cell_type": "code",
   "execution_count": 87,
   "id": "de9ffc69",
   "metadata": {},
   "outputs": [
    {
     "data": {
      "text/plain": [
       "<AtomGroup: 2etr (6617 atoms)>"
      ]
     },
     "execution_count": 87,
     "metadata": {},
     "output_type": "execute_result"
    }
   ],
   "source": [
    "#@title **Read pdb file**\n",
    "\n",
    "pdbfile = parsePDB('data/2etr.pdb')\n",
    "pdbfile"
   ]
  },
  {
   "cell_type": "code",
   "execution_count": 4,
   "id": "536f9d8d",
   "metadata": {},
   "outputs": [
    {
     "data": {
      "text/plain": [
       "'D:\\\\sam\\\\git-work\\\\my_website\\\\posts\\\\2etr.pdb.gz'"
      ]
     },
     "execution_count": 4,
     "metadata": {},
     "output_type": "execute_result"
    }
   ],
   "source": [
    "#@title **Fetch file from PDB database**\n",
    "pdbfile = fetchPDB('2etr') # It will fetch and download .pdb.gz file in local directory\n",
    "pdbfile"
   ]
  },
  {
   "cell_type": "code",
   "execution_count": 6,
   "id": "db748d3b",
   "metadata": {},
   "outputs": [
    {
     "data": {
      "text/plain": [
       "<AtomGroup: Unknown (6617 atoms)>"
      ]
     },
     "execution_count": 6,
     "metadata": {},
     "output_type": "execute_result"
    }
   ],
   "source": [
    "#@title **Read pdb from object variable**\n",
    "input_file = open('data/2etr.pdb','r')\n",
    "pdbfile = parsePDBStream(input_file) #Useful if you don't want to use pdb file instead store in string object variable\n",
    "#parsePDBStream(StringIO(lig)) #If lig variable contains pdb lines as string can use this line to read\n",
    "pdbfile\n"
   ]
  },
  {
   "cell_type": "code",
   "execution_count": 32,
   "id": "0644ea8c",
   "metadata": {},
   "outputs": [
    {
     "data": {
      "text/plain": [
       "_io.TextIOWrapper"
      ]
     },
     "execution_count": 32,
     "metadata": {},
     "output_type": "execute_result"
    }
   ],
   "source": [
    "input_file = open('data/2etr.pdb','r')\n",
    "type(input_file)"
   ]
  },
  {
   "cell_type": "code",
   "execution_count": 7,
   "id": "c27d7df2",
   "metadata": {},
   "outputs": [
    {
     "data": {
      "text/plain": [
       "<AtomGroup: 2etr (6617 atoms)>"
      ]
     },
     "execution_count": 7,
     "metadata": {},
     "output_type": "execute_result"
    }
   ],
   "source": [
    "#@title **Read CIF file**\n",
    "pdbfile = parseMMCIF('data/2etr.cif')\n",
    "pdbfile"
   ]
  },
  {
   "cell_type": "code",
   "execution_count": 8,
   "id": "5bee56ab",
   "metadata": {},
   "outputs": [
    {
     "data": {
      "text/plain": [
       "<AtomGroup: Unknown (6617 atoms)>"
      ]
     },
     "execution_count": 8,
     "metadata": {},
     "output_type": "execute_result"
    }
   ],
   "source": [
    "#@title **Read CIF string object**\n",
    "input_file = open('data/2etr.cif','r')\n",
    "pdbfile = parseMMCIFStream(input_file) #Useful if you don't want to use cif file instead store it in string object variable\n",
    "pdbfile"
   ]
  },
  {
   "cell_type": "markdown",
   "id": "82a703d8",
   "metadata": {},
   "source": [
    "# Write structures"
   ]
  },
  {
   "cell_type": "code",
   "execution_count": 9,
   "id": "10055307",
   "metadata": {},
   "outputs": [
    {
     "data": {
      "text/plain": [
       "'data/protein.pdb'"
      ]
     },
     "execution_count": 9,
     "metadata": {},
     "output_type": "execute_result"
    }
   ],
   "source": [
    "#@title **Save as pdbfile**\n",
    "writePDB('data/protein.pdb',pdbfile)"
   ]
  },
  {
   "cell_type": "code",
   "execution_count": null,
   "id": "40d3da44",
   "metadata": {},
   "outputs": [],
   "source": [
    "#@title **Save as pdb string object**\n",
    "import io\n",
    "out_file = io.StringIO()\n",
    "writePDBStream(out_file,pdbfile)\n",
    "out_file.getvalue()"
   ]
  },
  {
   "cell_type": "markdown",
   "id": "e7dcb0b2",
   "metadata": {},
   "source": [
    "# Selection"
   ]
  },
  {
   "cell_type": "markdown",
   "id": "33b8f6ae",
   "metadata": {},
   "source": [
    "## Using select"
   ]
  },
  {
   "cell_type": "code",
   "execution_count": 63,
   "id": "9a989f13",
   "metadata": {},
   "outputs": [
    {
     "data": {
      "text/plain": [
       "2"
      ]
     },
     "execution_count": 63,
     "metadata": {},
     "output_type": "execute_result"
    }
   ],
   "source": [
    "pdbfile.numChains()"
   ]
  },
  {
   "cell_type": "code",
   "execution_count": 61,
   "id": "cb0ef452",
   "metadata": {},
   "outputs": [
    {
     "data": {
      "text/plain": [
       "6473"
      ]
     },
     "execution_count": 61,
     "metadata": {},
     "output_type": "execute_result"
    }
   ],
   "source": [
    "pdbfile.numAtoms('protein')"
   ]
  },
  {
   "cell_type": "code",
   "execution_count": 69,
   "id": "f40fcbb7",
   "metadata": {},
   "outputs": [
    {
     "data": {
      "text/plain": [
       "<Selection: 'protein' from 2etr (6473 atoms)>"
      ]
     },
     "execution_count": 69,
     "metadata": {},
     "output_type": "execute_result"
    }
   ],
   "source": [
    "#@title ** **\n",
    "protein = pdbfile.select('protein') # Select protein residues\n",
    "protein"
   ]
  },
  {
   "cell_type": "code",
   "execution_count": null,
   "id": "3031e56c",
   "metadata": {},
   "outputs": [],
   "source": [
    "hetero_group = pdbfile.select('hetero') # Select hetero groups\n",
    "hetero_group.getResnames(),hetero_group.getResnums(),hetero_group.getChids()"
   ]
  },
  {
   "cell_type": "code",
   "execution_count": 56,
   "id": "4cd9676d",
   "metadata": {},
   "outputs": [
    {
     "data": {
      "text/plain": [
       "<Selection: 'water' from 2etr (108 atoms)>"
      ]
     },
     "execution_count": 56,
     "metadata": {},
     "output_type": "execute_result"
    }
   ],
   "source": [
    "water = pdbfile.select('water') # Select water\n",
    "water"
   ]
  },
  {
   "cell_type": "code",
   "execution_count": 51,
   "id": "9b881146",
   "metadata": {},
   "outputs": [
    {
     "data": {
      "text/plain": [
       "<Selection: 'chain A and resname Y27' from 2etr (18 atoms)>"
      ]
     },
     "execution_count": 51,
     "metadata": {},
     "output_type": "execute_result"
    }
   ],
   "source": [
    "ligand = pdbfile.select('chain A and resname Y27') # Select chain A ligand with residue name Y27\n",
    "ligand"
   ]
  },
  {
   "cell_type": "code",
   "execution_count": 88,
   "id": "6ae2c61c",
   "metadata": {},
   "outputs": [
    {
     "data": {
      "text/plain": [
       "<Selection: 'protein or water' from 2etr (6581 atoms)>"
      ]
     },
     "execution_count": 88,
     "metadata": {},
     "output_type": "execute_result"
    }
   ],
   "source": [
    "protein_water = pdbfile.select('protein or water') # To select both protein and water use \"or\" do not use \"and\"\n",
    "protein_water\n",
    "# If we use \"and\" it will check for presence of both condition, there is no residue with protein and water tag"
   ]
  },
  {
   "cell_type": "code",
   "execution_count": 90,
   "id": "0693f929",
   "metadata": {},
   "outputs": [
    {
     "data": {
      "text/plain": [
       "<Selection: 'not water and hetero not chain B' from 2etr (18 atoms)>"
      ]
     },
     "execution_count": 90,
     "metadata": {},
     "output_type": "execute_result"
    }
   ],
   "source": [
    "lig = pdbfile.select('not water and hetero not chain B')\n",
    "lig"
   ]
  },
  {
   "cell_type": "code",
   "execution_count": 95,
   "id": "d4e17161",
   "metadata": {},
   "outputs": [
    {
     "data": {
      "text/plain": [
       "<Selection: '(resnum 216 res...) and (protein)' from 2etr (2 atoms)>"
      ]
     },
     "execution_count": 95,
     "metadata": {},
     "output_type": "execute_result"
    }
   ],
   "source": [
    "protein.select('resnum 216 resname ASP name CA CB chain A')"
   ]
  },
  {
   "cell_type": "markdown",
   "id": "4a634df8",
   "metadata": {},
   "source": [
    "resnum - residue number\n",
    "\n",
    "resname - residue triple letter code\n",
    "\n",
    "name - atom name\n",
    "\n",
    "altloc - alternate location\n",
    "\n",
    "'resnum 5' selects residue 5 (all insertion codes)\n",
    "\n",
    "'resnum 5A' selects residue 5 with insertion code A\n",
    "\n",
    "'resnum 5_' selects residue 5 with no insertion code\n",
    "\n",
    "For specifiying empty use '_'\n",
    "\n",
    "'to' is all inclusive, e.g. 'resnum 1 to 4' means '1 <= resnum <= 4'\n",
    "\n",
    "':' is left inclusive, e.g. 'resnum 1:4' means '1 <= resnum < 4'\n",
    "\n",
    "Consecutive use of ':', however, specifies a discrete range of numbers, e.g. 'resnum 1:4:2' means 'resnum 1 3'"
   ]
  },
  {
   "cell_type": "markdown",
   "id": "dba9cf0e",
   "metadata": {},
   "source": [
    "## Indexing"
   ]
  },
  {
   "cell_type": "code",
   "execution_count": 98,
   "id": "596eb281",
   "metadata": {},
   "outputs": [
    {
     "data": {
      "text/plain": [
       "<Atom: N from 2etr (index 0)>"
      ]
     },
     "execution_count": 98,
     "metadata": {},
     "output_type": "execute_result"
    }
   ],
   "source": [
    "protein[0] #atom index"
   ]
  },
  {
   "cell_type": "code",
   "execution_count": 108,
   "id": "318c9704",
   "metadata": {},
   "outputs": [
    {
     "data": {
      "text/plain": [
       "<Atom: O from 2etr (index 216)>"
      ]
     },
     "execution_count": 108,
     "metadata": {},
     "output_type": "execute_result"
    }
   ],
   "source": [
    "protein['A'][216]"
   ]
  },
  {
   "cell_type": "code",
   "execution_count": 110,
   "id": "597b78c7",
   "metadata": {},
   "outputs": [
    {
     "data": {
      "text/plain": [
       "<Residue: ASP 216 from Chain A from 2etr (8 atoms)>"
      ]
     },
     "execution_count": 110,
     "metadata": {},
     "output_type": "execute_result"
    }
   ],
   "source": [
    "#Indexing a Chain instance with a tuple returns an Residue.\n",
    "protein['A'][(216,)]"
   ]
  },
  {
   "cell_type": "code",
   "execution_count": 99,
   "id": "eef5363d",
   "metadata": {},
   "outputs": [
    {
     "data": {
      "text/plain": [
       "<Chain: A from 2etr (400 residues, 3247 atoms)>"
      ]
     },
     "execution_count": 99,
     "metadata": {},
     "output_type": "execute_result"
    }
   ],
   "source": [
    "protein['A'] #chain selection"
   ]
  },
  {
   "cell_type": "code",
   "execution_count": 100,
   "id": "23b4808d",
   "metadata": {},
   "outputs": [
    {
     "data": {
      "text/plain": [
       "<Residue: ASP 216 from Chain A from 2etr (8 atoms)>"
      ]
     },
     "execution_count": 100,
     "metadata": {},
     "output_type": "execute_result"
    }
   ],
   "source": [
    "protein['A',216] # chain and residue number selection"
   ]
  },
  {
   "cell_type": "code",
   "execution_count": 101,
   "id": "adb60cec",
   "metadata": {},
   "outputs": [
    {
     "data": {
      "text/plain": [
       "<Atom: CA from 2etr (index 1729)>"
      ]
     },
     "execution_count": 101,
     "metadata": {},
     "output_type": "execute_result"
    }
   ],
   "source": [
    "protein['A',216]['CA'] # chain, residue number, atom name selection"
   ]
  },
  {
   "cell_type": "code",
   "execution_count": 112,
   "id": "a993564f",
   "metadata": {},
   "outputs": [
    {
     "data": {
      "text/plain": [
       "<Selection: 'index 0 to 9' from 2etr (10 atoms)>"
      ]
     },
     "execution_count": 112,
     "metadata": {},
     "output_type": "execute_result"
    }
   ],
   "source": [
    "protein[:10] # slice and select first 10 atoms"
   ]
  },
  {
   "cell_type": "code",
   "execution_count": 113,
   "id": "2b8d8a33",
   "metadata": {},
   "outputs": [
    {
     "data": {
      "text/plain": [
       "<Selection: 'index 0 2 4 6 8... 6468 6470 6472' from 2etr (3237 atoms)>"
      ]
     },
     "execution_count": 113,
     "metadata": {},
     "output_type": "execute_result"
    }
   ],
   "source": [
    "protein[::2] #Even number atom selection"
   ]
  },
  {
   "cell_type": "markdown",
   "id": "3fc82ef4",
   "metadata": {},
   "source": [
    "# Fetch properties"
   ]
  },
  {
   "cell_type": "code",
   "execution_count": 3,
   "id": "bb1cc8e7",
   "metadata": {},
   "outputs": [
    {
     "data": {
      "text/plain": [
       "2"
      ]
     },
     "execution_count": 3,
     "metadata": {},
     "output_type": "execute_result"
    }
   ],
   "source": [
    "#@title **Fetch residue name, number, atom name number**\n",
    "\n",
    "pdbfile = parsePDB('data/2etr.pdb')\n",
    "pdbfile.numChains() # For number of chains"
   ]
  },
  {
   "cell_type": "code",
   "execution_count": 4,
   "id": "06176ed9",
   "metadata": {},
   "outputs": [
    {
     "data": {
      "text/plain": [
       "908"
      ]
     },
     "execution_count": 4,
     "metadata": {},
     "output_type": "execute_result"
    }
   ],
   "source": [
    "pdbfile.numResidues() # Number of residues"
   ]
  },
  {
   "cell_type": "code",
   "execution_count": 5,
   "id": "7c823bed",
   "metadata": {},
   "outputs": [
    {
     "data": {
      "text/plain": [
       "6617"
      ]
     },
     "execution_count": 5,
     "metadata": {},
     "output_type": "execute_result"
    }
   ],
   "source": [
    "pdbfile.numAtoms() #Number of atoms"
   ]
  },
  {
   "cell_type": "code",
   "execution_count": 11,
   "id": "f0082e7c",
   "metadata": {},
   "outputs": [
    {
     "data": {
      "text/plain": [
       "{' '}"
      ]
     },
     "execution_count": 11,
     "metadata": {},
     "output_type": "execute_result"
    }
   ],
   "source": [
    "set(pdbfile.getAltlocs()) # Alternate location"
   ]
  },
  {
   "cell_type": "code",
   "execution_count": 12,
   "id": "b157d291",
   "metadata": {},
   "outputs": [
    {
     "data": {
      "text/plain": [
       "{'A', 'B'}"
      ]
     },
     "execution_count": 12,
     "metadata": {},
     "output_type": "execute_result"
    }
   ],
   "source": [
    "set(pdbfile.getChids()) # All Chain IDs"
   ]
  },
  {
   "cell_type": "code",
   "execution_count": 13,
   "id": "7c1c73d3",
   "metadata": {},
   "outputs": [
    {
     "data": {
      "text/plain": [
       "{'C', 'N', 'O', 'S'}"
      ]
     },
     "execution_count": 13,
     "metadata": {},
     "output_type": "execute_result"
    }
   ],
   "source": [
    "set(pdbfile.getElements()) # Atom types"
   ]
  },
  {
   "cell_type": "code",
   "execution_count": 14,
   "id": "815c3407",
   "metadata": {},
   "outputs": [
    {
     "data": {
      "text/plain": [
       "{'ALA',\n",
       " 'ARG',\n",
       " 'ASN',\n",
       " 'ASP',\n",
       " 'CYS',\n",
       " 'GLN',\n",
       " 'GLU',\n",
       " 'GLY',\n",
       " 'HIS',\n",
       " 'HOH',\n",
       " 'ILE',\n",
       " 'LEU',\n",
       " 'LYS',\n",
       " 'MET',\n",
       " 'PHE',\n",
       " 'PRO',\n",
       " 'SER',\n",
       " 'THR',\n",
       " 'TRP',\n",
       " 'TYR',\n",
       " 'VAL',\n",
       " 'Y27'}"
      ]
     },
     "execution_count": 14,
     "metadata": {},
     "output_type": "execute_result"
    }
   ],
   "source": [
    "set(pdbfile.getResnames()) # Residue names"
   ]
  },
  {
   "cell_type": "code",
   "execution_count": null,
   "id": "b122202d",
   "metadata": {},
   "outputs": [],
   "source": [
    "set(pdbfile.getResnums()) # Residue numbers"
   ]
  },
  {
   "cell_type": "code",
   "execution_count": 49,
   "id": "de8b0713",
   "metadata": {},
   "outputs": [
    {
     "data": {
      "text/plain": [
       "'SFETRFEKMDNLLRDPKSEVNSDCLLDGLDALVYDLDFPALRKNKNIDNFLSRYKDTINKIRDLRMKAEDYEVVKVIGRGAFGEVQLVRHKSTRKVYAMKLLSKFEMIKRSDSAFFWEERDIMAFANSPWVVQLFYAFQDDRYLYMVMEYMPGGDLVNLMSNYDVPEKWARFYTAEVVLALDAIHSMGFIHRDVKPDNMLLDKSGHLKLADFGTCMKMNKEGMVRCDTAVGTPDYISPEVLKSQGGDGYYGRECDWWSVGVFLYEMLVGDTPFYADSLVGTYSKIMNHKNSLTFPDDNDISKEAKNLICAFLTDREVRLGRNGVEEIKRHLFFKNDQWAWETLRDTVAPVVPDLSSDIDTSNFDDLEEDKGEEETFPIPKAFVGNQLPFVGFTYYSNRRY'"
      ]
     },
     "execution_count": 49,
     "metadata": {},
     "output_type": "execute_result"
    }
   ],
   "source": [
    "pdbfile['A'].getSequence()"
   ]
  },
  {
   "cell_type": "markdown",
   "id": "40b9c520",
   "metadata": {},
   "source": [
    "# Calculate functionalities"
   ]
  },
  {
   "cell_type": "code",
   "execution_count": 24,
   "id": "b164ab74",
   "metadata": {},
   "outputs": [
    {
     "data": {
      "text/plain": [
       "array([ 51.83716667, 101.54977778,  29.635     ])"
      ]
     },
     "execution_count": 24,
     "metadata": {},
     "output_type": "execute_result"
    }
   ],
   "source": [
    "#@title **Calculate Center of Geometry**\n",
    "query_atom = calcCenter(ligand) # COG\n",
    "query_atom"
   ]
  },
  {
   "cell_type": "code",
   "execution_count": 26,
   "id": "78d38de2",
   "metadata": {},
   "outputs": [
    {
     "data": {
      "text/plain": [
       "array([ 51.81354888, 101.55519646,  29.60240548])"
      ]
     },
     "execution_count": 26,
     "metadata": {},
     "output_type": "execute_result"
    }
   ],
   "source": [
    "#@title **Calculate Center of Mass**\n",
    "query_atom = calcCenter(ligand, weights=ligand.getMasses())  # Center of Mass\n",
    "query_atom"
   ]
  },
  {
   "cell_type": "code",
   "execution_count": 96,
   "id": "d5624c89",
   "metadata": {},
   "outputs": [
    {
     "data": {
      "text/plain": [
       "array([6.23])"
      ]
     },
     "execution_count": 96,
     "metadata": {},
     "output_type": "execute_result"
    }
   ],
   "source": [
    "#@title **Calculate Distance**\n",
    "DFG_CA = protein.select('chain A and resnum 216 and ca') # Select 216-ASP CA atom\n",
    "calcDistance(DFG_CA, query_atom).round(2)"
   ]
  },
  {
   "cell_type": "code",
   "execution_count": 97,
   "id": "63556851",
   "metadata": {},
   "outputs": [
    {
     "data": {
      "text/plain": [
       "6.23"
      ]
     },
     "execution_count": 97,
     "metadata": {},
     "output_type": "execute_result"
    }
   ],
   "source": [
    "calcDistance(protein['A',216]['CA'],query_atom).round(2)"
   ]
  },
  {
   "cell_type": "code",
   "execution_count": 44,
   "id": "cc6685c6",
   "metadata": {},
   "outputs": [
    {
     "data": {
      "text/plain": [
       "37.06595294876384"
      ]
     },
     "execution_count": 44,
     "metadata": {},
     "output_type": "execute_result"
    }
   ],
   "source": [
    "#@title **Calculate Angle**\n",
    "calcAngle(protein['A',216]['CA'], protein['A',124]['CA'], protein['A',217]['CA'])"
   ]
  },
  {
   "cell_type": "code",
   "execution_count": 75,
   "id": "ab433168",
   "metadata": {},
   "outputs": [
    {
     "data": {
      "text/plain": [
       "-177.15828339826356"
      ]
     },
     "execution_count": 75,
     "metadata": {},
     "output_type": "execute_result"
    }
   ],
   "source": [
    "#@title **Calculate Dihedral angle**\n",
    "calcDihedral(protein['A',215]['CA'],protein['A',216]['CA'],protein['A',217]['CA'],protein['A',218]['CA'])"
   ]
  },
  {
   "cell_type": "code",
   "execution_count": 67,
   "id": "b9772e07",
   "metadata": {},
   "outputs": [
    {
     "data": {
      "text/plain": [
       "66.22053940730052"
      ]
     },
     "execution_count": 67,
     "metadata": {},
     "output_type": "execute_result"
    }
   ],
   "source": [
    "#@title **Calculate phi angle**\n",
    "calcPhi(protein['A',216])"
   ]
  },
  {
   "cell_type": "code",
   "execution_count": 37,
   "id": "08341c63",
   "metadata": {},
   "outputs": [
    {
     "data": {
      "text/plain": [
       "120.62391299111084"
      ]
     },
     "execution_count": 37,
     "metadata": {},
     "output_type": "execute_result"
    }
   ],
   "source": [
    "#@title **Calculate psi angle**\n",
    "calcPsi(protein['A',216])"
   ]
  },
  {
   "cell_type": "code",
   "execution_count": 74,
   "id": "3adb5f41",
   "metadata": {},
   "outputs": [
    {
     "data": {
      "text/plain": [
       "-176.76556684282522"
      ]
     },
     "execution_count": 74,
     "metadata": {},
     "output_type": "execute_result"
    }
   ],
   "source": [
    "#@title **Calculate psi angle**\n",
    "calcOmega(protein['A',216])"
   ]
  },
  {
   "cell_type": "markdown",
   "id": "046e7c17",
   "metadata": {},
   "source": [
    "# Select residues based on distance cut-off"
   ]
  },
  {
   "cell_type": "markdown",
   "id": "06feb665",
   "metadata": {},
   "source": [
    "## Using select function"
   ]
  },
  {
   "cell_type": "code",
   "execution_count": 19,
   "id": "7329440c",
   "metadata": {},
   "outputs": [
    {
     "data": {
      "text/plain": [
       "array([ 82,  90, 103, 153, 154, 155, 155, 155, 156, 156, 156, 156, 156,\n",
       "       202, 203, 203, 205, 215, 216, 216, 216, 368, 368])"
      ]
     },
     "execution_count": 19,
     "metadata": {},
     "output_type": "execute_result"
    }
   ],
   "source": [
    "active_site = protein.select('within 4 of mol', mol=ligand.toAtomGroup())  # Selecting protein residues surrounding fragment\n",
    "# For passing variable into the selection string it should be an Atommap.\n",
    "active_site.getResnums()\n",
    "# This method will return only residues around the query not the individual atom specific pair distance info"
   ]
  },
  {
   "cell_type": "markdown",
   "id": "4ec2da6a",
   "metadata": {},
   "source": [
    "## Calculate neighbours atoms"
   ]
  },
  {
   "cell_type": "code",
   "execution_count": null,
   "id": "62de5c70",
   "metadata": {},
   "outputs": [],
   "source": [
    "nearby = findNeighbors(ligand, 4, protein) # Returns pair of residues which are within the cutoff distance\n",
    "# This will return pair of atom between two input selections and their distance\n",
    "nearby"
   ]
  },
  {
   "cell_type": "code",
   "execution_count": null,
   "id": "dd210681",
   "metadata": {},
   "outputs": [],
   "source": [
    "for f in nearby:\n",
    "    print(f[0].getResnum(),f[0].getName(),f[0].getResname(),f[1].getResnum(),f[1].getName(),f[1].getResname(),f[2])"
   ]
  }
 ],
 "metadata": {
  "kernelspec": {
   "display_name": "Python 3 (ipykernel)",
   "language": "python",
   "name": "python3"
  },
  "language_info": {
   "codemirror_mode": {
    "name": "ipython",
    "version": 3
   },
   "file_extension": ".py",
   "mimetype": "text/x-python",
   "name": "python",
   "nbconvert_exporter": "python",
   "pygments_lexer": "ipython3",
   "version": "3.8.18"
  },
  "toc": {
   "base_numbering": 1,
   "nav_menu": {},
   "number_sections": true,
   "sideBar": true,
   "skip_h1_title": false,
   "title_cell": "Table of Contents",
   "title_sidebar": "Contents",
   "toc_cell": false,
   "toc_position": {
    "height": "calc(100% - 180px)",
    "left": "10px",
    "top": "150px",
    "width": "307.2px"
   },
   "toc_section_display": true,
   "toc_window_display": true
  }
 },
 "nbformat": 4,
 "nbformat_minor": 5
}
