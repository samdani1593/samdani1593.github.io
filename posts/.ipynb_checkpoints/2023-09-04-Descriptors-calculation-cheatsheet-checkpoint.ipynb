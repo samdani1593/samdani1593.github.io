{
 "cells": [
  {
   "cell_type": "markdown",
   "id": "fbb5c1d1",
   "metadata": {},
   "source": [
    "---\n",
    "badges: true\n",
    "author: \"Samdani Ansar\"\n",
    "categories:\n",
    "- Cheminformatics\n",
    "date: '2023-09-04'\n",
    "title: Descriptors calculation cheatsheet\n",
    "description: Cheatsheet for different modules used for descriptor calculation\n",
    "toc: true\n",
    "image: images/descriptor.png\n",
    "\n",
    "---"
   ]
  },
  {
   "cell_type": "markdown",
   "id": "cae650a1",
   "metadata": {},
   "source": [
    "This notebook will provide you the concepts on different modules which can be used to calculate descriptors for the molecules.\n",
    "\n",
    "To run the notebook in Google Colab. [![Open In Colab](https://colab.research.google.com/assets/colab-badge.svg)](https://colab.research.google.com/github/samdani1593/samdani1593.github.io/blob/main/posts/2023-09-04-Descriptors-calculation-cheatsheet.ipynb)\n",
    "\n"
   ]
  },
  {
   "cell_type": "code",
   "execution_count": null,
   "id": "5becee49",
   "metadata": {},
   "outputs": [],
   "source": [
    "#@title *Install PLIP**\n",
    "!conda install -c conda-forge plip -y"
   ]
  }
 ],
 "metadata": {
  "kernelspec": {
   "display_name": "Python 3 (ipykernel)",
   "language": "python",
   "name": "python3"
  },
  "language_info": {
   "codemirror_mode": {
    "name": "ipython",
    "version": 3
   },
   "file_extension": ".py",
   "mimetype": "text/x-python",
   "name": "python",
   "nbconvert_exporter": "python",
   "pygments_lexer": "ipython3",
   "version": "3.8.3"
  },
  "toc": {
   "base_numbering": 1,
   "nav_menu": {},
   "number_sections": true,
   "sideBar": true,
   "skip_h1_title": false,
   "title_cell": "Table of Contents",
   "title_sidebar": "Contents",
   "toc_cell": false,
   "toc_position": {
    "height": "calc(100% - 180px)",
    "left": "10px",
    "top": "150px",
    "width": "307.2px"
   },
   "toc_section_display": true,
   "toc_window_display": true
  }
 },
 "nbformat": 4,
 "nbformat_minor": 5
}
