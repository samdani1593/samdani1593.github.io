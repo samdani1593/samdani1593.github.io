{
 "cells": [
  {
   "cell_type": "markdown",
   "id": "a90cc52b",
   "metadata": {},
   "source": [
    "---\n",
    "badges: true\n",
    "author: \"Samdani Ansar\"\n",
    "categories:\n",
    "- Structural Bioinformatics\n",
    "date: '2023-04-23'\n",
    "title: PDB Structure Quality\n",
    "description: For extracting information from pdb file and structure quality\n",
    "toc: true\n",
    "image: images/edia.png\n",
    "\n",
    "---"
   ]
  },
  {
   "cell_type": "code",
   "execution_count": 2,
   "id": "9f182ed9",
   "metadata": {},
   "outputs": [
    {
     "ename": "SyntaxError",
     "evalue": "invalid syntax (3960072089.py, line 1)",
     "output_type": "error",
     "traceback": [
      "\u001b[1;36m  Cell \u001b[1;32mIn[2], line 1\u001b[1;36m\u001b[0m\n\u001b[1;33m    This notebook will provide few concepts which we need to consider while using protein structure from the PDB database.\u001b[0m\n\u001b[1;37m         ^\u001b[0m\n\u001b[1;31mSyntaxError\u001b[0m\u001b[1;31m:\u001b[0m invalid syntax\n"
     ]
    }
   ],
   "source": [
    "This notebook will provide few concepts which we need to consider while using protein structure from the PDB database.\n",
    "\n",
    "* [Ligand Structure Quality in PDB Structures](https://www.rcsb.org/docs/general-help/ligand-structure-quality-in-pdb-structures)\n",
    "* [Assessing the Quality of 3D Structures](https://www.rcsb.org/docs/general-help/assessing-the-quality-of-3d-structures)\n",
    "\n",
    "\n",
    "* [2023 Errors in structural biology are not the exception](https://doi.org/10.1107/S2059798322011901)\n",
    "* [2022 The Pfizer Crystal Structure Database: An essential tool for structure-based design at Pfizer](https://doi.org/10.1002/jcc.26862)\n",
    "* [2022 Assessing PDB macromolecular crystal structure confidence at the individual amino acid residue level](https://doi.org/10.1016/j.str.2022.08.004)\n",
    "* [2022 Simplified quality assessment for small-molecule ligands in the Protein Data Bank](https://doi.org/10.1016/j.str.2021.10.003)\n",
    "* [2021 Enhanced validation of small-molecule ligands and carbohydrates in the Protein Data Bank](https://doi.org/10.1016/j.str.2021.02.004)\n",
    "* [2021 ‘All That Glitters Is Not Gold’: High-Resolution Crystal Structures of Ligand-Protein Complexes Need Not Always Represent Confident Binding Poses](https://doi.org/10.3390/ijms22136830)\n",
    "* [2020 A chemical interpretation of protein electron density maps in the worldwide protein data bank](https://doi.org/10.1371/journal.pone.0236894)\n",
    "* [2018 Validation of ligands in macromolecular structures determined by X-ray crystallography](https://doi.org/10.1107/S2059798318002541)\n",
    "* [2017 DCC: a Swiss army knife for structure factor analysis and validation](https://doi.org/10.1107/S1600576716004428)\n",
    "\n",
    "\n",
    "\n",
    "tools:\n",
    "\n",
    "* [EDIA]()  \n",
    "* [Structure Profiler]()\n",
    "\n",
    "* [2017 Estimating Electron Density Support for Individual Atoms and Molecular Fragments in X-ray Structures](https://doi.org/10.1021/acs.jcim.7b00391)\n",
    "* [2018 StructureProfiler: an all-in-one tool for 3D protein structure profiling](https://doi.org/10.1093/bioinformatics/bty692)\n",
    "\n",
    "\n",
    "https://www.mdpi.com/1422-0067/22/13/6830#B55-ijms-22-06830\n",
    "\n",
    "https://pubs-acs-org.ezproxy.univ-orleans.fr/doi/10.1021/acs.jcim.7b00391\n",
    "\n",
    "https://academic.oup.com/bioinformatics/article/35/5/874/5075170#394053180\n",
    "\n",
    "https://github.com/URVquimioinformatica-COS/VHELIBS/releases/tag/5.1\n",
    "\n",
    "https://onlinelibrary-wiley-com.ezproxy.univ-orleans.fr/doi/10.1002/jcc.26862\n",
    "\n",
    "https://journals.plos.org/plosone/article?id=10.1371/journal.pone.0236894#abstract0\n",
    "\n",
    "https://journals.iucr.org/d/issues/2018/03/00/ba5278/index.html\n",
    "\n",
    "https://pubs-acs-org.ezproxy.univ-orleans.fr/doi/full/10.1021/acs.jcim.1c01406 \n",
    "\n",
    "https://www.cell.com/structure/fulltext/S0969-2126(21)00371-3?_returnURL=https%3A%2F%2Flinkinghub.elsevier.com%2Fretrieve%2Fpii%2FS0969212621003713%3Fshowall%3Dtrue#secsectitle0020\n",
    "\n",
    "\n",
    "https://www.cell.com/structure/pdf/S0969-2126(21)00048-4.pdf\n",
    "\n",
    "\t\n",
    "\t\n",
    "https://www.rcsb.org/docs/general-help/ligand-structure-quality-in-pdb-structures\n",
    "\n",
    "https://www.rcsb.org/docs/general-help/assessing-the-quality-of-3d-structures\n",
    "\n",
    "https://www.rcsb.org/docs/additional-resources/structure-validation-and-quality\n",
    "\n",
    "https://www.wwpdb.org/validation/onedep-validation-web-service-interface\n",
    "\n",
    "https://journals.iucr.org/j/issues/2016/03/00/ap5001/index.html\n",
    "\n",
    "https://www.zbh.uni-hamburg.de/forschung/amd/software/edia.html\n",
    "\n",
    "\n",
    "\n",
    "https://www.rcsb.org/docs/additional-resources/crystallography-software\n",
    "https://sw-tools.rcsb.org/index.html"
   ]
  },
  {
   "cell_type": "code",
   "execution_count": null,
   "id": "dd29aafe",
   "metadata": {},
   "outputs": [],
   "source": [
    "https://www.mdpi.com/1422-0067/22/13/6830#B55-ijms-22-06830\n",
    "\n",
    "https://pubs-acs-org.ezproxy.univ-orleans.fr/doi/10.1021/acs.jcim.7b00391\n",
    "\n",
    "https://academic.oup.com/bioinformatics/article/35/5/874/5075170?login=false#394053180\n",
    "\n",
    "https://onlinelibrary-wiley-com.ezproxy.univ-orleans.fr/doi/10.1002/jcc.26862\n",
    "\n",
    "https://journals.plos.org/plosone/article/metrics?id=10.1371/journal.pone.0236894#citedHeader\n",
    "\n",
    "https://journals.iucr.org/d/issues/2023/03/00/ai5006/index.html\n",
    "\n",
    "https://www.nature.com/collections/prbfkwmwvz/\n",
    "\n",
    "https://journals.iucr.org/d/issues/2018/03/00/ba5278/index.html\n",
    "\n",
    "https://www.sciencedirect.com/science/article/pii/S0969212621000484\n",
    "\n",
    "https://www.sciencedirect.com/science/article/pii/S0969212622003197#abs0020\n",
    "\n",
    "https://www.cell.com/structure/fulltext/S0969-2126(21)00371-3?_returnURL=https%3A%2F%2Flinkinghub.elsevier.com%2Fretrieve%2Fpii%2FS0969212621003713%3Fshowall%3Dtrue#secsectitle0020\n",
    "\n",
    "https://www.cell.com/structure/pdf/S0969-2126(21)00048-4.pdf\n",
    "\n",
    "https://www.rcsb.org/docs/general-help/ligand-structure-quality-in-pdb-structures\n",
    "\n",
    "https://www.rcsb.org/docs/general-help/assessing-the-quality-of-3d-structures\n",
    "\n",
    "https://www.rcsb.org/docs/additional-resources/structure-validation-and-quality\n",
    "\n",
    "https://www.wwpdb.org/validation/onedep-validation-web-service-interface\n",
    "\n",
    "https://journals.iucr.org/j/issues/2016/03/00/ap5001/index.html\n",
    "\n",
    "https://www.rcsb.org/docs/programmatic-access/web-services-overview\n",
    "\n",
    "https://search.rcsb.org/index.html#search-example-16\n",
    "\n",
    "https://data.rcsb.org/index.html#data-schema\n",
    "\n",
    "https://data.rcsb.org/redoc/index.html\n",
    "\n",
    "https://github.com/PDBeurope/pdbe-api-training/tree/master\n"
   ]
  },
  {
   "cell_type": "markdown",
   "id": "44dc5bda",
   "metadata": {},
   "source": [
    "This notebook contain short codes to perform different functionalities in Pymol. [![Open In Colab](https://colab.research.google.com/assets/colab-badge.svg)](https://colab.research.google.com/github/pablo-arantes/making-it-rain/blob/main/Partial_Charges.ipynb)"
   ]
  },
  {
   "cell_type": "markdown",
   "id": "d21b4936",
   "metadata": {},
   "source": [
    "{{< mol-url https://files.rcsb.org/download/1atp.pdb >}}"
   ]
  },
  {
   "cell_type": "code",
   "execution_count": null,
   "id": "458b7673",
   "metadata": {},
   "outputs": [],
   "source": [
    "import pandas as pd\n",
    "import requests\n",
    "import os\n",
    "from prody import *"
   ]
  },
  {
   "cell_type": "markdown",
   "id": "02490ff4",
   "metadata": {},
   "source": [
    "# EDIA scores"
   ]
  },
  {
   "cell_type": "markdown",
   "id": "46a8bbf9",
   "metadata": {},
   "source": [
    "The example notebook for demonstrating the EDIA score via REST API is available [here](https://github.com/rareylab/proteins_plus_examples/blob/main/notebooks/EDIAscorer_example.ipynb)."
   ]
  },
  {
   "cell_type": "code",
   "execution_count": null,
   "id": "a5afc314",
   "metadata": {},
   "outputs": [],
   "source": [
    "pdb_id = '4agm'\n",
    "request_run = requests.get('https://files.rcsb.org/download/'+pdb_id+'.pdb')\n",
    "with open(pdb_id+'.pdb','w') as pfile:\n",
    "    pfile.write(request_run.text)\n",
    "pdb_file = os.getcwd()+'/'+pdb_id+'.pdb'\n",
    "with open(pdb_file) as upload_file:\n",
    "    query = {'protein_file': upload_file}\n",
    "    params = {'pdb_code': pdb_id}\n",
    "    edia_job_submission = requests.post('https://proteins.plus/api/v2/ediascorer/', data=params, files=query).json()"
   ]
  },
  {
   "cell_type": "code",
   "execution_count": null,
   "id": "c1ec27db",
   "metadata": {},
   "outputs": [],
   "source": [
    "edia_job_submission"
   ]
  },
  {
   "cell_type": "code",
   "execution_count": null,
   "id": "2903a7d2",
   "metadata": {},
   "outputs": [],
   "source": [
    "edia_job = requests.get('https://proteins.plus/api/v2/ediascorer/jobs/' + edia_job_submission['job_id'] + '/').json()\n",
    "edia_job"
   ]
  },
  {
   "cell_type": "code",
   "execution_count": null,
   "id": "36d81ebb",
   "metadata": {},
   "outputs": [],
   "source": [
    "edia_scores = requests.get('https://proteins.plus/api/v2/ediascorer/scores/' + edia_job['edia_scores'] + '/').json()\n",
    "edia_scores      "
   ]
  },
  {
   "cell_type": "code",
   "execution_count": null,
   "id": "01419041",
   "metadata": {},
   "outputs": [],
   "source": [
    "atom_scores = edia_scores['atom_scores']\n",
    "atom_scores"
   ]
  },
  {
   "cell_type": "code",
   "execution_count": null,
   "id": "a9820dbc",
   "metadata": {},
   "outputs": [],
   "source": [
    "atom_scores['1'].keys()"
   ]
  },
  {
   "cell_type": "code",
   "execution_count": null,
   "id": "1477b6a8",
   "metadata": {},
   "outputs": [],
   "source": [
    "output_protein = requests.get('https://proteins.plus/api/v2/molecule_handler/proteins/' + edia_job['output_protein'] + '/').json()\n",
    "output_protein"
   ]
  },
  {
   "cell_type": "code",
   "execution_count": null,
   "id": "8e87941b",
   "metadata": {},
   "outputs": [],
   "source": [
    "EDIA_pd = pd.DataFrame(columns=['EDIA', 'Chain', 'Element', 'B factor', 'Atom name', 'Infile id', 'Occupancy', 'Substructure id', 'Substructure name', 'EDIA fault analysis', 'Structure specifier'])\n",
    "for line in output_protein['file_string'].split('\\n'):\n",
    "    if line[0:6].strip() in ['ATOM','HETATM']:\n",
    "        atom_num = line[6:11].strip()\n",
    "        atom_info = atom_scores[atom_num]\n",
    "        temp_pd = pd.DataFrame(atom_info,index=[0])\n",
    "        EDIA_pd = pd.concat([EDIA_pd,temp_pd],ignore_index=True)"
   ]
  },
  {
   "cell_type": "code",
   "execution_count": null,
   "id": "d9eebe90",
   "metadata": {},
   "outputs": [],
   "source": [
    "EDIA_pd = EDIA_pd.astype({'EDIA':float, 'Chain':str, 'Element':str, 'B factor':float, 'Atom name':str, 'Infile id':int, 'Occupancy':float, 'Substructure id':int, 'Substructure name':str, 'EDIA fault analysis':float, 'Structure specifier':str})"
   ]
  },
  {
   "cell_type": "code",
   "execution_count": null,
   "id": "b0f44c44",
   "metadata": {},
   "outputs": [],
   "source": [
    "minor_inconsistencies = EDIA_pd[(EDIA_pd['EDIA'] < 0.8) & (EDIA_pd['EDIA'] > 0.4)]\n",
    "minor_inconsistencies"
   ]
  },
  {
   "cell_type": "code",
   "execution_count": null,
   "id": "76c07c99",
   "metadata": {},
   "outputs": [],
   "source": [
    "substantial_inconsistencies = EDIA_pd[(EDIA_pd['EDIA'] < 0.4)]\n",
    "substantial_inconsistencies"
   ]
  },
  {
   "cell_type": "code",
   "execution_count": null,
   "id": "f30d3c7b",
   "metadata": {},
   "outputs": [],
   "source": [
    "bad_list = set(substantial_inconsistencies['Substructure id'].to_list())"
   ]
  },
  {
   "cell_type": "code",
   "execution_count": null,
   "id": "4c935143",
   "metadata": {},
   "outputs": [],
   "source": [
    "EDIA values between 0.4 - 0.8 are minor inconsistencies, whereas EDIA values < 0.4 are substantial inconsistencies. For more details can be found in the [publication](https://doi.org/10.1021/acs.jcim.7b00391)"
   ]
  },
  {
   "cell_type": "code",
   "execution_count": null,
   "id": "1f5a0129",
   "metadata": {},
   "outputs": [],
   "source": [
    "import nglview as nv"
   ]
  },
  {
   "cell_type": "code",
   "execution_count": null,
   "id": "4ef5caa1",
   "metadata": {},
   "outputs": [],
   "source": [
    "# EDIA coloring for the NGL\n",
    "edia_color_func = '''\n",
    "  this.atomColor = function(atom){\n",
    "    if(atom.bfactor > 1) {\n",
    "      return 0x000AFF;\n",
    "    } else if(atom.bfactor > 0.85){\n",
    "      return 0x3C00FF;\n",
    "    } else if(atom.bfactor > 0.75) {\n",
    "      return 0xB400FF;\n",
    "    } else if(atom.bfactor > 0.65) {\n",
    "      return 0xF000FF;\n",
    "    } else if(atom.bfactor > 0.55) {\n",
    "      return 0xFF00D2;\n",
    "    } else if(atom.bfactor > 0.45) {\n",
    "      return 0xFF009E;\n",
    "    } else if(atom.bfactor > 0.25) {\n",
    "      return 0xFF0066\n",
    "    } else if(atom.bfactor >= 0) {\n",
    "      return 0xFF0000;\n",
    "    } else {\n",
    "      return 0xFFFFFF;\n",
    "    }\n",
    "  };\n",
    "'''\n",
    "nv.color.ColormakerRegistry.add_scheme_func('ediacolor', edia_color_func)\n"
   ]
  },
  {
   "cell_type": "code",
   "execution_count": null,
   "id": "280d6b1f",
   "metadata": {},
   "outputs": [],
   "source": [
    "import io\n",
    "from Bio.PDB import *\n",
    "output_protein_file = io.StringIO(output_protein['file_string'])\n",
    "protein_structure = PDBParser().get_structure(output_protein['name'], output_protein_file)\n",
    "view = nv.show_biopython(protein_structure, color='ediacolor')\n",
    "view.clear_representations()\n",
    "view.add_cartoon(color='ediacolor')\n",
    "view.add_representation(repr_type='ball+stick', selection='ligand', color='ediacolor')\n",
    "view"
   ]
  },
  {
   "cell_type": "markdown",
   "id": "79fb4433",
   "metadata": {},
   "source": [
    "# Structure Profiler"
   ]
  },
  {
   "cell_type": "markdown",
   "id": "5bde6189",
   "metadata": {},
   "source": [
    "The example notebook for the Structure Profiler analysis via REST API is available [here](https://github.com/rareylab/proteins_plus_examples/blob/main/notebooks/StructureProfiler_example.ipynb).\n",
    "\n",
    "If electron density file or 'pdb_code' provided only the EDIA score will be calculated."
   ]
  },
  {
   "cell_type": "code",
   "execution_count": null,
   "id": "71e13a46",
   "metadata": {},
   "outputs": [],
   "source": [
    "# constants\n",
    "PROTEINS_PLUS_URL = 'https://proteins.plus/api/v2/'\n",
    "UPLOAD = urljoin(PROTEINS_PLUS_URL, 'molecule_handler/upload/')\n",
    "UPLOAD_JOBS = urljoin(PROTEINS_PLUS_URL, 'molecule_handler/upload/jobs/')\n",
    "PROTEINS = urljoin(PROTEINS_PLUS_URL, 'molecule_handler/proteins/')\n",
    "LIGANDS = urljoin(PROTEINS_PLUS_URL, 'molecule_handler/ligands/')\n",
    "STRUCTUREPROFILER = urljoin(PROTEINS_PLUS_URL, 'structureprofiler/')\n",
    "STRUCTUREPROFILER_JOBS = urljoin(PROTEINS_PLUS_URL, 'structureprofiler/jobs/')\n",
    "OUTPUT_DATA = urljoin(PROTEINS_PLUS_URL, 'structureprofiler/output/')\n",
    "EBI_URL = 'https://www.ebi.ac.uk/pdbe/coordinates/files/'"
   ]
  },
  {
   "cell_type": "code",
   "execution_count": null,
   "id": "3872ade7",
   "metadata": {},
   "outputs": [],
   "source": [
    "with open(pdb_id+'.pdb') as upload_file:\n",
    "    query = {'protein_file': upload_file}\n",
    "    params = {'pdb_code': pdb_id}\n",
    "    job_submission = requests.post('https://proteins.plus/api/v2/structureprofiler/', files=query, data=params).json()\n",
    "job_submission"
   ]
  },
  {
   "cell_type": "code",
   "execution_count": null,
   "id": "7df8b6a5",
   "metadata": {},
   "outputs": [],
   "source": [
    "import time\n",
    "job = requests.get('https://proteins.plus/api/v2/structureprofiler/jobs/' + job_submission['job_id'] + '/').json()\n",
    "while job['status'] == 'running' or job['status'] == 'pending':\n",
    "    time.sleep(5)\n",
    "    struct_profiler_job = requests.get('https://proteins.plus/api/v2/structureprofiler/jobs/' + job_submission['job_id'] + '/').json()"
   ]
  },
  {
   "cell_type": "code",
   "execution_count": null,
   "id": "56c14e94",
   "metadata": {},
   "outputs": [],
   "source": [
    "output_data = requests.get('https://proteins.plus/api/v2/structureprofiler/output/'+ struct_profiler_job['output_data'] + '/').json()\n",
    "output_data"
   ]
  },
  {
   "cell_type": "markdown",
   "id": "faeab024",
   "metadata": {},
   "source": [
    "## Complex"
   ]
  },
  {
   "cell_type": "code",
   "execution_count": null,
   "id": "6de9d7a6",
   "metadata": {},
   "outputs": [],
   "source": [
    "output_data['output_data']['complex']"
   ]
  },
  {
   "cell_type": "code",
   "execution_count": null,
   "id": "9d1bca4f",
   "metadata": {},
   "outputs": [],
   "source": [
    "df_complex = pd.DataFrame([output_data['output_data']['complex']])\n",
    "df_complex = df_complex.transpose()\n",
    "df_complex"
   ]
  },
  {
   "cell_type": "markdown",
   "id": "64cbd2c7",
   "metadata": {},
   "source": [
    "## Ligands"
   ]
  },
  {
   "cell_type": "code",
   "execution_count": null,
   "id": "c7df4c31",
   "metadata": {},
   "outputs": [],
   "source": [
    "output_data['output_data']['ligands']"
   ]
  },
  {
   "cell_type": "code",
   "execution_count": null,
   "id": "816014e3",
   "metadata": {},
   "outputs": [],
   "source": [
    "df_ligands = pd.DataFrame(output_data['output_data']['ligands'])\n",
    "#df_ligands = df_ligands.transpose()\n",
    "df_ligands"
   ]
  },
  {
   "cell_type": "markdown",
   "id": "0a93d803",
   "metadata": {},
   "source": [
    "## Active sites"
   ]
  },
  {
   "cell_type": "code",
   "execution_count": null,
   "id": "9d49e9bd",
   "metadata": {},
   "outputs": [],
   "source": [
    "output_data['output_data']['active_sites']"
   ]
  },
  {
   "cell_type": "code",
   "execution_count": null,
   "id": "5437e998",
   "metadata": {},
   "outputs": [],
   "source": [
    "df_active_site = pd.DataFrame(output_data['output_data']['active_sites'])\n",
    "df_active_site"
   ]
  },
  {
   "cell_type": "code",
   "execution_count": null,
   "id": "5a2249a0",
   "metadata": {},
   "outputs": [],
   "source": []
  },
  {
   "cell_type": "code",
   "execution_count": null,
   "id": "2d8f329c",
   "metadata": {},
   "outputs": [],
   "source": []
  },
  {
   "cell_type": "code",
   "execution_count": null,
   "id": "e3782fb2",
   "metadata": {},
   "outputs": [],
   "source": []
  },
  {
   "cell_type": "code",
   "execution_count": null,
   "id": "d60bc067",
   "metadata": {},
   "outputs": [],
   "source": []
  },
  {
   "cell_type": "code",
   "execution_count": null,
   "id": "243e4bcb",
   "metadata": {},
   "outputs": [],
   "source": []
  },
  {
   "cell_type": "code",
   "execution_count": null,
   "id": "b9246e94",
   "metadata": {},
   "outputs": [],
   "source": []
  }
 ],
 "metadata": {
  "kernelspec": {
   "display_name": "Python 3 (ipykernel)",
   "language": "python",
   "name": "python3"
  },
  "language_info": {
   "codemirror_mode": {
    "name": "ipython",
    "version": 3
   },
   "file_extension": ".py",
   "mimetype": "text/x-python",
   "name": "python",
   "nbconvert_exporter": "python",
   "pygments_lexer": "ipython3",
   "version": "3.8.16"
  },
  "toc": {
   "base_numbering": 1,
   "nav_menu": {},
   "number_sections": true,
   "sideBar": true,
   "skip_h1_title": false,
   "title_cell": "Table of Contents",
   "title_sidebar": "Contents",
   "toc_cell": false,
   "toc_position": {
    "height": "calc(100% - 180px)",
    "left": "10px",
    "top": "150px",
    "width": "303.837px"
   },
   "toc_section_display": true,
   "toc_window_display": true
  }
 },
 "nbformat": 4,
 "nbformat_minor": 5
}
